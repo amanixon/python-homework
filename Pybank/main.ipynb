{
 "cells": [
  {
   "cell_type": "code",
   "execution_count": 19,
   "id": "463bc018-77a7-4d87-bed0-94ec519ac5b6",
   "metadata": {
    "tags": []
   },
   "outputs": [],
   "source": [
    "# Import the pathlib and csv\n",
    "from pathlib import Path\n",
    "import csv"
   ]
  },
  {
   "cell_type": "code",
   "execution_count": 20,
   "id": "d1a7a4b2-57d4-4ef9-b323-3e48617a11d7",
   "metadata": {
    "tags": []
   },
   "outputs": [],
   "source": [
    "#Set csv path\n",
    "csvpath = Path(\"C://Users//Optiplex7040//Downloads//python-challenge-main1//Pybank/budget_data.csv\")\n"
   ]
  },
  {
   "cell_type": "code",
   "execution_count": 29,
   "id": "1ef7a741-059e-4887-bb7e-5b5d881a01f3",
   "metadata": {
    "tags": []
   },
   "outputs": [
    {
     "name": "stdout",
     "output_type": "stream",
     "text": [
      "Financial Analysis\n",
      "----------------------------\n",
      "Total Months: 86\n",
      "Total: $38382578\n",
      "Average Change: $446309.05\n",
      "Greatest Increase in Profits: Feb-2012 ($1170593)\n",
      "Greatest Decrease in Profits: Sep-2013 ($-1196225)\n",
      "Results exported to financial_analysis_results.txt\n"
     ]
    }
   ],
   "source": [
    "#Initialize Variables\n",
    "months = 0\n",
    "total_losses = 0\n",
    "changes_in_profit_losses = []\n",
    "greatest_increase_month = \"\"\n",
    "greatest_decrease_month = \"\"\n",
    "greatest_profit_increase = 0\n",
    "greatest_loss_profit = 0\n",
    "\n",
    "#Read data from budget_data csv\n",
    "with open(csvpath) as csvfile:\n",
    "    csvreader = csv.reader(csvfile, delimiter=\",\")\n",
    "    header = next(csvreader, None)\n",
    "    last_profit_loss = 0\n",
    "    \n",
    "    for row in csvreader:\n",
    "        months += 1\n",
    "        total_losses += int(row[1])\n",
    "        lost_profit = int(row[1])\n",
    "\n",
    "        change_in_profit_loss = lost_profit - last_profit_loss\n",
    "        changes_in_profit_losses.append(change_in_profit_loss)\n",
    "        \n",
    "        if int(row[1]) > greatest_profit_increase:\n",
    "            greatest_profit_increase = int(row[1])\n",
    "            greatest_increase_month = row[0]\n",
    "        if int(row[1]) < greatest_loss_profit:\n",
    "            greatest_loss_profit = int(row[1])\n",
    "            greatest_decrease_month = row[0]\n",
    "            \n",
    "            \n",
    "        average_change = sum(changes_in_profit_losses) / (months)\n",
    "\n",
    "#Print results\n",
    "print(\"Financial Analysis\")\n",
    "print(\"----------------------------\")\n",
    "print(f\"Total Months: {months}\")\n",
    "print(f\"Total: ${total_losses}\")\n",
    "print(f\"Average Change: ${average_change:.2f}\")\n",
    "print(f\"Greatest Increase in Profits: {greatest_increase_month} (${greatest_profit_increase})\")\n",
    "print(f\"Greatest Decrease in Profits: {greatest_decrease_month} (${greatest_loss_profit})\")\n",
    "\n",
    "\n",
    "#Set output file path \n",
    "output_file_path = 'pybank.txt'\n",
    "\n",
    "#Open output path\n",
    "with open(output_file_path, 'w') as output_file:\n",
    "    output_file.write(\"Financial Analysis\\n\")\n",
    "    output_file.write(\"----------------------------\\n\")\n",
    "    output_file.write(f\"Total Months: {months}\\n\")\n",
    "    output_file.write(f\"Total: ${total_losses}\\n\")\n",
    "    output_file.write(f\"Average Change: ${average_change:.2f}\\n\")\n",
    "    output_file.write(f\"Greatest Increase in Profits: {greatest_increase_month} (${greatest_profit_increase})\\n\")\n",
    "    output_file.write(f\"Greatest Decrease in Profits: {greatest_decrease_month} (${greatest_loss_profit})\\n\")\n",
    "\n",
    "print(f\"Results exported to {output_file_path}\")"
   ]
  },
  {
   "cell_type": "code",
   "execution_count": null,
   "id": "291e2109-9b3e-421f-bc74-c4cf5bce6171",
   "metadata": {},
   "outputs": [],
   "source": []
  }
 ],
 "metadata": {
  "kernelspec": {
   "display_name": "Python 3 (ipykernel)",
   "language": "python",
   "name": "python3"
  },
  "language_info": {
   "codemirror_mode": {
    "name": "ipython",
    "version": 3
   },
   "file_extension": ".py",
   "mimetype": "text/x-python",
   "name": "python",
   "nbconvert_exporter": "python",
   "pygments_lexer": "ipython3",
   "version": "3.11.5"
  }
 },
 "nbformat": 4,
 "nbformat_minor": 5
}
