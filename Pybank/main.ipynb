{
 "cells": [
  {
   "cell_type": "code",
   "execution_count": 2,
   "id": "463bc018-77a7-4d87-bed0-94ec519ac5b6",
   "metadata": {
    "tags": []
   },
   "outputs": [],
   "source": [
    "# Import the pathlib and csv\n",
    "from pathlib import Path\n",
    "import csv"
   ]
  },
  {
   "cell_type": "code",
   "execution_count": 3,
   "id": "d1a7a4b2-57d4-4ef9-b323-3e48617a11d7",
   "metadata": {
    "tags": []
   },
   "outputs": [],
   "source": [
    "#Set csv path\n",
    "csvpath = Path(\"C://Users//Optiplex7040//Downloads//python-challenge-main1//Pybank/budget_data.csv\")\n"
   ]
  },
  {
   "cell_type": "code",
   "execution_count": 7,
   "id": "1ef7a741-059e-4887-bb7e-5b5d881a01f3",
   "metadata": {
    "tags": []
   },
   "outputs": [
    {
     "name": "stdout",
     "output_type": "stream",
     "text": [
      "Financial Analysis\n",
      "_____________________________\n",
      "Total Months: 86\n",
      "Net Total: $38382578\n",
      "Average Change: $-2315.12\n",
      "Greatest Increase in Profits: Feb-2012 ($1926159)\n",
      "Greatest Decrease in Losses: Sep-2013 ($-2196167)\n",
      "Results exported to pybank.txt\n"
     ]
    }
   ],
   "source": [
    "#Initialize Variables# Initialize variables\n",
    "total_months = 0\n",
    "net_total = 0\n",
    "previous_profit_loss = 0\n",
    "changes_list = []\n",
    "greatest_increase = {\"date\": \"\", \"amount\": float(\"-inf\")}\n",
    "greatest_decrease = {\"date\": \"\", \"amount\": float(\"inf\")}\n",
    "\n",
    "# Open the CSV file\n",
    "with open(csvpath, 'r') as csvfile:\n",
    "    # Create a CSV reader object\n",
    "    csvreader = csv.reader(csvfile)\n",
    "\n",
    "    # Skip the header row\n",
    "    header = next(csvreader)\n",
    "\n",
    "    # Iterate through each row in the CSV file\n",
    "    for row in csvreader:\n",
    "        # Extract date and profit_loss from the current row\n",
    "        date = row[0]\n",
    "        profit_loss = int(row[1])\n",
    "\n",
    "        # Update variables\n",
    "        total_months += 1\n",
    "        net_total += profit_loss\n",
    "\n",
    "        # Calculate the change in profit/loss from the previous month\n",
    "        if total_months > 1:\n",
    "            change = profit_loss - previous_profit_loss\n",
    "            changes_list.append(change)\n",
    "\n",
    "            # Update greatest increase and decrease\n",
    "            if change > greatest_increase[\"amount\"]:\n",
    "                greatest_increase[\"date\"] = date\n",
    "                greatest_increase[\"amount\"] = change\n",
    "            elif change < greatest_decrease[\"amount\"]:\n",
    "                greatest_decrease[\"date\"] = date\n",
    "                greatest_decrease[\"amount\"] = change\n",
    "\n",
    "        # Update previous_profit_loss for the next iteration\n",
    "        previous_profit_loss = profit_loss\n",
    "\n",
    "# Calculate the average change\n",
    "average_change = sum(changes_list) / len(changes_list)\n",
    "\n",
    "# Print the results\n",
    "print(\"Financial Analysis\")\n",
    "print(\"_____________________________\")\n",
    "print(f\"Total Months: {total_months}\")\n",
    "print(f\"Net Total: ${net_total}\")\n",
    "print(f\"Average Change: ${average_change:.2f}\")\n",
    "print(f\"Greatest Increase in Profits: {greatest_increase['date']} (${greatest_increase['amount']})\")\n",
    "print(f\"Greatest Decrease in Losses: {greatest_decrease['date']} (${greatest_decrease['amount']})\")\n",
    "\n",
    "\n",
    "#Set output file path \n",
    "output_file_path = 'pybank.txt'\n",
    "\n",
    "#Open output path\n",
    "with open(output_file_path, 'w') as output_file:\n",
    "    output_file.write(\"Financial Analysis\\n\")\n",
    "    output_file.write(\"----------------------------\\n\")\n",
    "    output_file.write(f\"Total Months: {months}\\n\")\n",
    "    output_file.write(f\"Total: ${total_losses}\\n\")\n",
    "    output_file.write(f\"Average Change: ${average_change:.2f}\\n\")\n",
    "    output_file.write(f\"Greatest Increase in Profits: {greatest_increase_month} (${greatest_profit_increase})\\n\")\n",
    "    output_file.write(f\"Greatest Decrease in Profits: {greatest_decrease_month} (${greatest_loss_profit})\\n\")\n",
    "\n",
    "print(f\"Results exported to {output_file_path}\")"
   ]
  },
  {
   "cell_type": "code",
   "execution_count": null,
   "id": "291e2109-9b3e-421f-bc74-c4cf5bce6171",
   "metadata": {},
   "outputs": [],
   "source": []
  }
 ],
 "metadata": {
  "kernelspec": {
   "display_name": "Python 3 (ipykernel)",
   "language": "python",
   "name": "python3"
  },
  "language_info": {
   "codemirror_mode": {
    "name": "ipython",
    "version": 3
   },
   "file_extension": ".py",
   "mimetype": "text/x-python",
   "name": "python",
   "nbconvert_exporter": "python",
   "pygments_lexer": "ipython3",
   "version": "3.11.5"
  }
 },
 "nbformat": 4,
 "nbformat_minor": 5
}
